{
 "cells": [
  {
   "cell_type": "markdown",
   "metadata": {},
   "source": [
    "# **Ouroboros Neurofeedback API: Computing NF scores from observed and predicted human brain activity (EEG, fMRI)**\n",
    "\n",
    "#### Version: 16th May 2024\n",
    "\n",
    "==============================================================================================\n",
    "\n",
    "Project developed by Maël Donoso, Ph.D. in Cognitive and Computational Neuroscience. Affiliations: Ouroboros Neurotechnologies (https://ouroboros-neurotechnologies.com/), Institut Lémanique du Cerveau (https://institut-cerveau.ch/), Policlinique Ostéopathique de Lausanne (https://policlinique-osteopathique-lausanne.ch/). "
   ]
  },
  {
   "cell_type": "markdown",
   "metadata": {},
   "source": [
    "### Notebook 02\n",
    "\n",
    "# **Requests**"
   ]
  },
  {
   "cell_type": "markdown",
   "metadata": {},
   "source": [
    "## **1. Observed brain activity**\n",
    "\n",
    "**Request:** To the *observed_brain_activity* endpoint of the API, we send a single-channel time series of preprocessed EEG data, as well as some parameters: the sampling frequency of the preprocessed EEG data, the definition of the frequency bands, the specific frequency band to be used for neurofeedback (NF) training, the type of NF regulation, and the NF threshold. \n",
    "\n",
    "**Response:** We retrieve the bandpowers, the feedback valence, and the NF score. "
   ]
  },
  {
   "cell_type": "code",
   "execution_count": 1,
   "metadata": {},
   "outputs": [],
   "source": [
    "import numpy as np\n",
    "import pandas as pd\n",
    "import matplotlib.pyplot as plt\n",
    "%matplotlib inline\n",
    "import mne\n",
    "import json\n",
    "import requests"
   ]
  },
  {
   "cell_type": "code",
   "execution_count": 2,
   "metadata": {},
   "outputs": [],
   "source": [
    "# Define the preprocessed EEG data path. \n",
    "preprocessed_eeg_data_path = '../../Neuropolis/ds002336-download/derivatives/'\n",
    "\n",
    "# Select the subject and condition to use. \n",
    "selected_subject = 'sub-xp110'\n",
    "selected_condition = 'eegfmriNF'\n",
    "\n",
    "# Define the path of the header file (.vhdr) for this subject and this condition. \n",
    "vhdr_path = preprocessed_eeg_data_path + selected_subject + '/eeg_pp/' + selected_subject + '_task-' + selected_condition + '_eeg_pp.vhdr'"
   ]
  },
  {
   "cell_type": "code",
   "execution_count": 3,
   "metadata": {},
   "outputs": [
    {
     "name": "stderr",
     "output_type": "stream",
     "text": [
      "/var/folders/8y/sg28phf55jv3mkr_l1g50xn40000gn/T/ipykernel_1289/1938147726.py:2: RuntimeWarning: Not setting position of 1 misc channel found in montage:\n",
      "['ECG']\n",
      "Consider setting the channel types to be of EEG/sEEG/ECoG/DBS/fNIRS using inst.set_channel_types before calling inst.set_montage, or omit these channels when creating your montage.\n",
      "  channels_data = mne.io.read_raw_brainvision(vhdr_path, misc = ['ECG'], preload = True, verbose = False)\n"
     ]
    },
    {
     "data": {
      "text/plain": [
       "200.0"
      ]
     },
     "execution_count": 3,
     "metadata": {},
     "output_type": "execute_result"
    }
   ],
   "source": [
    "# Load the EEG data using the MNE library. \n",
    "channels_data = mne.io.read_raw_brainvision(vhdr_path, misc = ['ECG'], preload = True, verbose = False)\n",
    "\n",
    "# Retrieve the sampling frequency. \n",
    "sampling_frequency = channels_data.info['sfreq']\n",
    "sampling_frequency"
   ]
  },
  {
   "cell_type": "code",
   "execution_count": 4,
   "metadata": {},
   "outputs": [
    {
     "data": {
      "text/plain": [
       "34"
      ]
     },
     "execution_count": 4,
     "metadata": {},
     "output_type": "execute_result"
    }
   ],
   "source": [
    "# Identify the C1 channel index. \n",
    "c1_channel_index = channels_data.ch_names.index('C1')\n",
    "c1_channel_index"
   ]
  },
  {
   "cell_type": "code",
   "execution_count": 5,
   "metadata": {},
   "outputs": [
    {
     "data": {
      "text/plain": [
       "(64, 80200)"
      ]
     },
     "execution_count": 5,
     "metadata": {},
     "output_type": "execute_result"
    }
   ],
   "source": [
    "# Export the EEG data into a NumPy array. \n",
    "np_channels_data = channels_data.get_data() \n",
    "\n",
    "# Check the size of the array. \n",
    "np_channels_data.shape"
   ]
  },
  {
   "cell_type": "code",
   "execution_count": 6,
   "metadata": {},
   "outputs": [
    {
     "data": {
      "text/plain": [
       "[[1, 4, 'Delta'],\n",
       " [4, 8, 'Theta'],\n",
       " [8, 12, 'Alpha'],\n",
       " [12, 16, 'Sigma'],\n",
       " [16, 30, 'Beta'],\n",
       " [30, 40, 'Gamma']]"
      ]
     },
     "execution_count": 6,
     "metadata": {},
     "output_type": "execute_result"
    }
   ],
   "source": [
    "# Define the frequency bands of interest. \n",
    "frequency_bands = [[1, 4, 'Delta'], [4, 8, 'Theta'], [8, 12, 'Alpha'], [12, 16, 'Sigma'], [16, 30, 'Beta'], [30, 40, 'Gamma']]\n",
    "frequency_bands"
   ]
  },
  {
   "cell_type": "code",
   "execution_count": 7,
   "metadata": {},
   "outputs": [
    {
     "data": {
      "text/plain": [
       "'{\"eeg_data\": [-0.0001013000030517578, -0.000101, -0.00010120000457763671, -0.00010159999847412109, -0.00010190000152587891, -0.0001018000030517578, -0.0001013000030517578, -0.0001005999984741211, -9.99000015258789e-05, -9.959999847412108e-05, -9.94000015258789e-05, -9.909999847412109e-05, -9.870000457763672e-05, -9.85e-05, -9.880000305175781e-05, -9.949999999999999e-05, -0.0001003000030517578, -0.00010049999999999999, -9.999999999999999e-05, -9.880000305175781e-05, -9.75e-05, -9.670000457763671e-05, -9.68000030517578e-05, -9.730000305175781e-05, -9.8e-05, -9.870000457763672e-05, -9.920000457763672e-05, -9.980000305175781e-05, -0.00010049999999999999, -0.0001010999984741211, -0.00010170000457763671, -0.00010230000305175781, -0.0001029000015258789, -0.00010370000457763672, -0.0001049000015258789, -0.00010620000457763671, -0.0001074000015258789, -0.00010830000305175781, -0.0001089000015258789, -0.00010930000305175781, -0.0001094000015258789, -0.00010909999847412109, -0.0001084000015258789, -0.00010759999847412109, -0.0001068000030517578, -0.0001054000015258789, -0.0001049000015258789, -0.00010449999999999999, -0.000104, -0.0001034000015258789, -0.00010270000457763672, -0.000102, -0.0001015, -0.0001013000030517578, -0.0001013000030517578, -0.0001013000030517578, -0.0001013000030517578, -0.0001013000030517578, -0.0001014000015258789, -0.00010170000457763671, -0.00010499999999999999, -0.0001049000015258789, -0.00010520000457763671, -0.0001058000030517578, -0.0001064000015258789, -0.0001068000030517578, -0.000107, -0.000107, -0.0001068000030517578, -0.0001065, -0.00010620000457763671, -0.00010620000457763671, -0.0001064000015258789, -0.00010659999847412109, -0.00010659999847412109, -0.0001064000015258789, -0.00010620000457763671, -0.00010620000457763671, -0.0001064000015258789, -0.00010659999847412109, -0.000107, -0.0001075, -0.0001079000015258789, -0.00010820000457763672, -0.00010809999847412109, -0.00010770000457763672, -0.00010720000457763671, -0.0001068000030517578, -0.00010670000457763671, -0.00010670000457763671, -0.00010670000457763671, -0.00010659999847412109, -0.00010659999847412109, -0.00010690000152587891, -0.00010770000457763672, -0.00010899999999999999, -0.0001104000015258789, -0.0001115, -0.00011220000457763671, -0.00011259999847412109, -0.00011280000305175781, -0.0001129000015258789, -0.00011259999847412109, -0.0001118000030517578, -0.00011070000457763671, -0.00010970000457763671, -0.00010920000457763672, -0.00010909999847412109, -0.0001094000015258789, -0.0001099000015258789, -0.0001103000030517578, -0.00011070000457763671, -0.000111, -0.0001113000030517578, -0.0001113000030517578, -0.00011109999847412109, -0.00011049999999999999, -0.0001094000015258789, -0.0001079000015258789, -0.0001064000015258789, -0.0001049000015258789, -0.00010370000457763672, -0.0001029000015258789, -0.00010259999847412109, -0.00010259999847412109, -0.00010259999847412109, -0.0001025, -0.0001024000015258789, -0.0001025, -0.000103, -0.00010370000457763672, -0.0001044000015258789, -0.00010499999999999999, -0.0001053000030517578, -0.0001055999984741211, -0.000106, -0.00010670000457763671, -0.00010759999847412109, -0.0001085, -0.00010930000305175781, -0.0001099000015258789, -0.00011020000457763671, -0.0001103000030517578, -0.00011020000457763671, -0.00011009999847412108, -0.0001098000030517578, -0.0001094000015258789, -0.00010880000305175781, -0.0001079000015258789, -0.0001068000030517578, -0.0001059000015258789, -0.0001054000015258789, -0.00010520000457763671, -0.00010509999847412108, -0.00010470000457763672, -0.000104, -0.00010309999847412109, -0.0001025, -0.00010230000305175781, -0.00010270000457763672, -0.00010380000305175781, -0.0001054000015258789, -0.0001074000015258789, -0.00010930000305175781, -0.00011070000457763671, -0.0001109000015258789, -0.00010970000457763671, -0.0001075, -0.0001049000015258789, -0.00010270000457763672, -0.00010120000457763671, -9.970000457763672e-05, -9.9e-05, -9.85e-05, -9.85e-05, -9.89000015258789e-05, -9.94000015258789e-05, -9.930000305175781e-05, -9.8e-05, -9.55999984741211e-05, -9.309999847412109e-05, -9.14000015258789e-05, -9.13000030517578e-05, -9.270000457763671e-05, -9.480000305175781e-05, -9.999999999999999e-05, -0.00010159999847412109, -0.00010330000305175781, -0.00010499999999999999, -0.0001060999984741211, -0.00010620000457763671, -0.00010520000457763671, -0.00010370000457763672, -0.00010230000305175781, -0.0001015, -0.0001015, -0.000102, -0.00010309999847412109, -0.00010470000457763672, -0.0001065, -0.00010830000305175781, -0.00010949999999999999, -0.00011009999847412108, -0.0001099000015258789, -0.00010920000457763672, -0.0001085, -0.00010830000305175781, -0.00010880000305175781, -0.00010970000457763671, -0.00011070000457763671, -0.0001115, -0.00011209999847412109, -0.00011270000457763672, -0.00011309999847412109, -0.00011359999847412109, -0.00011409999847412108, -0.00011459999847412108, -0.00011499999999999999, -0.00011509999847412108, -0.00011449999999999999, -0.0001134000015258789, -0.00011220000457763671, -0.0001113000030517578, -0.0001109000015258789, -0.0001108000030517578, -0.0001108000030517578, -0.0001105999984741211, -0.0001103000030517578, -0.0001098000030517578, -0.0001089000015258789, -0.00010780000305175781, -0.00010670000457763671, -0.0001058000030517578, -0.00010520000457763671, -0.00010480000305175781, -0.00010449999999999999, -0.00010449999999999999, -0.00010480000305175781, -0.0001055999984741211, -0.00010670000457763671, -0.00010809999847412109, -0.00010920000457763672, -0.0001099000015258789, -0.00010999999999999999, -0.00010930000305175781, -0.0001075, -0.00010459999847412108, -0.00010070000457763671, -9.659999847412109e-05, -9.309999847412109e-05, -9.120000457763671e-05, -9.099999999999999e-05, -9.25e-05, -9.509999847412108e-05, -9.859999847412109e-05, -0.00010259999847412109, -0.0001065, -0.0001099000015258789, -0.00011259999847412109, -0.0001144000015258789, -0.00011549999999999999, -0.0001159000015258789, -0.000116, -0.00011609999847412109, -0.00011620000457763671, -0.00011640000152587891, -0.00011640000152587891, -0.000116, -0.00011520000457763671, -0.00011409999847412108, -0.00011330000305175781, -0.000113, -0.0001134000015258789, -0.00011430000305175781, -0.0001154000015258789, -0.0001163000030517578, -0.0001165, -0.000116, -0.00011470000457763671, -0.00011309999847412109, -0.0001118000030517578, -0.00011140000152587891, -0.0001119000015258789, -0.00011309999847412109, -0.0001144000015258789, -0.00011549999999999999, -0.00011670000457763671, -0.000118, -0.00011899999999999999, -0.0001194000015258789, -0.0001189000015258789, -0.00011759999847412109, -0.0001163000030517578, -0.00011570000457763671, -0.00011620000457763671, -0.00011720000457763671, -0.00011859999847412109, -0.0001194000015258789, -0.00011959999847412108, -0.00011959999847412108, -0.0001198000030517578, -0.0001203000030517578, -0.0001208000030517578, -0.00012070000457763671, -0.00011949999999999999, -0.0001174000015258789, -0.0001149000015258789, -0.00011259999847412109, -0.0001134000015258789, -0.00011170000457763671, -0.000111, -0.00011140000152587891, -0.0001125, -0.00011399999999999999, -0.0001155999984741211, -0.00011659999847412109, -0.00011670000457763671, -0.0001159000015258789, -0.00011449999999999999, -0.0001129000015258789, -0.0001113000030517578, -0.0001094000015258789, -0.00010709999847412109, -0.00010480000305175781, -0.00010259999847412109, -0.0001009000015258789, -9.94000015258789e-05, -9.809999847412109e-05, -9.709999847412109e-05, -9.659999847412109e-05, -9.690000152587891e-05, -9.8e-05, -9.959999847412108e-05, -0.0001013000030517578, -0.00010280000305175781, -0.00010380000305175781, -0.0001044000015258789, -0.00010459999847412108, -0.00010430000305175781, -0.00010359999847412109, -0.00010259999847412109, -0.0001014000015258789, -0.0001004000015258789, -9.999999999999999e-05, -0.00010049999999999999, -0.0001015, -0.00010259999847412109, -0.00010309999847412109, -0.00010259999847412109, -0.00010159999847412109, -0.0001003000030517578, -9.9e-05, -9.79000015258789e-05, -9.65e-05, -9.470000457763672e-05, -9.270000457763671e-05, -9.10999984741211e-05, -9.049999999999999e-05, -9.120000457763671e-05, -9.309999847412109e-05, -9.570000457763671e-05, -9.870000457763672e-05, -0.00010159999847412109, -0.00010420000457763672, -0.00010620000457763671, -0.00010720000457763671, -0.0001074000015258789, -0.00010709999847412109, -0.00010709999847412109, -0.0001079000015258789, -0.00010949999999999999, -0.0001113000030517578, -0.00011259999847412109, -0.0001134000015258789, -0.00011359999847412109, -0.0001135, -0.00011309999847412109, -0.00011209999847412109, -0.0001105999984741211, -0.0001089000015258789, -0.0001075, -0.00010670000457763671, -0.00010620000457763671, -0.0001058000030517578, -0.0001053000030517578, -0.0001044000015258789, -0.00010330000305175781, -0.00010190000152587891, -0.00010049999999999999, -9.94000015258789e-05, -9.880000305175781e-05, -9.880000305175781e-05, -9.909999847412109e-05, -9.959999847412108e-05, -0.0001003000030517578, -0.00010120000457763671, -0.00010209999847412109, -0.0001029000015258789, -0.0001035, -0.00010380000305175781], \"sampling_frequency\": 200.0, \"frequency_bands\": [[1, 4, \"Delta\"], [4, 8, \"Theta\"], [8, 12, \"Alpha\"], [12, 16, \"Sigma\"], [16, 30, \"Beta\"], [30, 40, \"Gamma\"]], \"training_frequency_band\": \"Alpha\", \"regulation\": \"upregulation\", \"threshold\": 0}'"
      ]
     },
     "execution_count": 7,
     "metadata": {},
     "output_type": "execute_result"
    }
   ],
   "source": [
    "# Define the URL. \n",
    "url_observed_brain_activity = 'http://localhost:8000/neurofeedback/observed_brain_activity'\n",
    "\n",
    "# Define the dictionary. \n",
    "# Here we use the first 2 seconds of data for the C1 electrode. Any other 2-second (or longer) interval could be used. \n",
    "eeg_dict = {'eeg_data' :                 list(np_channels_data[c1_channel_index, 0:2*int(sampling_frequency)]), \n",
    "            'sampling_frequency' :       sampling_frequency, \n",
    "            'frequency_bands' :          frequency_bands, \n",
    "            'training_frequency_band' :  'Alpha', \n",
    "            'regulation' :               'upregulation',\n",
    "            'threshold' :                0}\n",
    "\n",
    "# Display the JSON. \n",
    "json_eeg_dict = json.dumps(eeg_dict)\n",
    "json_eeg_dict"
   ]
  },
  {
   "cell_type": "code",
   "execution_count": 8,
   "metadata": {},
   "outputs": [
    {
     "data": {
      "text/plain": [
       "'{\"bandpowers\": {\"Delta\": 0.6173289427664062, \"Theta\": 0.1352910046018241, \"Alpha\": 0.12840530047492565, \"Sigma\": 0.08109368136356776, \"Beta\": 0.036911219524846384, \"Gamma\": 0.0009698512684299928}, \"bandpower_value\": 0.12840530047492565, \"feedback\": 1, \"score\": 0.12840530047492565}'"
      ]
     },
     "execution_count": 8,
     "metadata": {},
     "output_type": "execute_result"
    }
   ],
   "source": [
    "# Send the request to the API, and get the response. \n",
    "response_observed = requests.post(url_observed_brain_activity, json = eeg_dict)\n",
    "response_observed.json()"
   ]
  },
  {
   "cell_type": "code",
   "execution_count": 9,
   "metadata": {},
   "outputs": [
    {
     "data": {
      "image/png": "[encoded data removed]",
      "text/plain": [
       "<Figure size 600x400 with 1 Axes>"
      ]
     },
     "metadata": {},
     "output_type": "display_data"
    }
   ],
   "source": [
    "# Retrieve the bandpowers. \n",
    "bandpowers = list(json.loads(response_observed.json())['bandpowers'].values())\n",
    "bandpowers_labels = list(json.loads(response_observed.json())['bandpowers'].keys())\n",
    "\n",
    "# Display the bandpowers in a bar plot. \n",
    "fig, axes = plt.subplots(nrows = 1, ncols = 1, figsize = (6, 4))\n",
    "axes.bar(range(6), bandpowers, width = 0.6, color = ['green'])\n",
    "axes.set_xticks(range(6), labels = bandpowers_labels)\n",
    "axes.set_title('Bandpowers (observed)');"
   ]
  },
  {
   "cell_type": "code",
   "execution_count": 10,
   "metadata": {},
   "outputs": [
    {
     "name": "stdout",
     "output_type": "stream",
     "text": [
      "Feedback: 1\n",
      "Score: 0.12840530047492565\n"
     ]
    }
   ],
   "source": [
    "# Display the feedback and score. \n",
    "print('Feedback: ' + str(json.loads(response_observed.json())['feedback']))\n",
    "print('Score: ' + str(json.loads(response_observed.json())['score']))"
   ]
  },
  {
   "cell_type": "markdown",
   "metadata": {},
   "source": [
    "## **2. Predicted brain activity**\n",
    "\n",
    "**Request:** To the *predicted_brain_activity* endpoint of the API, we send a multi-channel time series of preprocessed EEG data, as well as some parameters: the machine learning model that we would like to use, the specific voxel activity that we would like to predict, the type of NF regulation, and the NF threshold. \n",
    "\n",
    "**Response:** We retrieve the predicted values of the voxels, the feedback valence, and the NF score. "
   ]
  },
  {
   "cell_type": "code",
   "execution_count": 11,
   "metadata": {},
   "outputs": [
    {
     "data": {
      "text/plain": [
       "31"
      ]
     },
     "execution_count": 11,
     "metadata": {},
     "output_type": "execute_result"
    }
   ],
   "source": [
    "# Identify the ECG channel index. \n",
    "ecg_channel_index = channels_data.ch_names.index('ECG')\n",
    "ecg_channel_index"
   ]
  },
  {
   "cell_type": "code",
   "execution_count": 12,
   "metadata": {},
   "outputs": [],
   "source": [
    "# Retrieve the number of channels. \n",
    "nb_channels = np_channels_data.shape[0]\n",
    "\n",
    "# Transform the NumPy array into a list of sublists, excluding the ECG channel. \n",
    "# Here we use the first 12 seconds of data for all the electrodes (except ECG). Any other 12-second interval could be used. \n",
    "# This sequence duration of 12 seconds was used in the Neuropolis project for the training of the machine learning models. \n",
    "list_channels_data = []\n",
    "for channel_index in range(nb_channels):\n",
    "    if channel_index != ecg_channel_index:\n",
    "        list_channels_data.append(list(np_channels_data[channel_index, 0:12*int(sampling_frequency)]))"
   ]
  },
  {
   "cell_type": "code",
   "execution_count": 13,
   "metadata": {},
   "outputs": [],
   "source": [
    "# Define the URL. \n",
    "url_predicted_brain_activity = 'http://localhost:8000/neurofeedback/predicted_brain_activity'\n",
    "\n",
    "# Define the dictionary. \n",
    "eeg_dict = {'eeg_data' :                 list_channels_data,  \n",
    "            'trained_model' :            'LinearRegression', \n",
    "            'training_voxel' :           'pgACC', \n",
    "            'regulation' :               'upregulation',\n",
    "            'threshold' :                0}"
   ]
  },
  {
   "cell_type": "code",
   "execution_count": 14,
   "metadata": {},
   "outputs": [
    {
     "data": {
      "text/plain": [
       "'{\"voxels\": [0.20303892233086943, 0.5311823143387286, 0.3076417897283916, -0.6095039649019828, -0.4232004950565343, -0.014029297702458782, 0.1413416663257568, -1.6311749286860364, 0.4166805124978203, 1.9757627119134047, 0.014656079610921136, -0.942693038347875, -0.29415260986358804, -0.881842231233406, -2.0507009930256626, -0.6434883121753492, -0.9050916935788502], \"voxel_value\": 0.20303892233086943, \"feedback\": 1, \"score\": 0.20303892233086943}'"
      ]
     },
     "execution_count": 14,
     "metadata": {},
     "output_type": "execute_result"
    }
   ],
   "source": [
    "# Send the request to the API, and get the response. \n",
    "response_predicted = requests.post(url_predicted_brain_activity, json = eeg_dict)\n",
    "response_predicted.json()"
   ]
  },
  {
   "cell_type": "code",
   "execution_count": 15,
   "metadata": {},
   "outputs": [
    {
     "data": {
      "image/png": "[encoded data removed]",
      "text/plain": [
       "<Figure size 800x400 with 1 Axes>"
      ]
     },
     "metadata": {},
     "output_type": "display_data"
    }
   ],
   "source": [
    "# Retrieve the predicted values of the voxels. \n",
    "voxels = json.loads(response_predicted.json())['voxels']\n",
    "\n",
    "# Display the predicted values of the voxels in a bar plot. \n",
    "fig, axes = plt.subplots(nrows = 1, ncols = 1, figsize = (8, 4))\n",
    "axes.bar(range(17), voxels, width = 0.6, color = ['blue'])\n",
    "axes.set_xticks(range(17), labels = range(1, 18))\n",
    "axes.set_title('Voxels (predicted)');"
   ]
  },
  {
   "cell_type": "code",
   "execution_count": 16,
   "metadata": {},
   "outputs": [
    {
     "name": "stdout",
     "output_type": "stream",
     "text": [
      "Feedback: 1\n",
      "Score: 0.20303892233086943\n"
     ]
    }
   ],
   "source": [
    "# Display the feedback and score. \n",
    "print('Feedback: ' + str(json.loads(response_predicted.json())['feedback']))\n",
    "print('Score: ' + str(json.loads(response_predicted.json())['score']))"
   ]
  }
 ],
 "metadata": {
  "kernelspec": {
   "display_name": "ouroboros-neurofeedback-api",
   "language": "python",
   "name": "python3"
  },
  "language_info": {
   "codemirror_mode": {
    "name": "ipython",
    "version": 3
   },
   "file_extension": ".py",
   "mimetype": "text/x-python",
   "name": "python",
   "nbconvert_exporter": "python",
   "pygments_lexer": "ipython3",
   "version": "3.11.0"
  }
 },
 "nbformat": 4,
 "nbformat_minor": 2
}
