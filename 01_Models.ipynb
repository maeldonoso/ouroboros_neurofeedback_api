{
 "cells": [
  {
   "cell_type": "markdown",
   "metadata": {},
   "source": [
    "# **Ouroboros Neurofeedback API: Computing NF scores from observed and predicted human brain activity (EEG, fMRI)**\n",
    "\n",
    "#### Version: 16th May 2024\n",
    "\n",
    "==============================================================================================\n",
    "\n",
    "Project developed by Maël Donoso, Ph.D. in Cognitive and Computational Neuroscience. Affiliations: Ouroboros Neurotechnologies (https://ouroboros-neurotechnologies.com/), Institut Lémanique du Cerveau (https://institut-cerveau.ch/), Policlinique Ostéopathique de Lausanne (https://policlinique-osteopathique-lausanne.ch/). "
   ]
  },
  {
   "cell_type": "markdown",
   "metadata": {},
   "source": [
    "### Notebook 01\n",
    "\n",
    "# **Models**"
   ]
  },
  {
   "cell_type": "markdown",
   "metadata": {},
   "source": [
    "In this Notebook, we recover a series of machine learning models trained in the Neuropolis project, and select the Predictor Brain to use. "
   ]
  },
  {
   "cell_type": "code",
   "execution_count": 1,
   "metadata": {},
   "outputs": [],
   "source": [
    "import pickle"
   ]
  },
  {
   "cell_type": "code",
   "execution_count": 2,
   "metadata": {},
   "outputs": [],
   "source": [
    "# Define the Neuropolis models path. \n",
    "neuropolis_models_path = '../../Neuropolis/neuropolis_results/'\n",
    "\n",
    "# Define the Ouroboros Neurofeedback API models path. \n",
    "models_path = 'models/'\n",
    "\n",
    "# Define the list of models to add to Ouroboros Neurofeedback API. \n",
    "models_list = ['dict_models_lr_pb.p',\n",
    "               'dict_models_ridge_pb.p',\n",
    "               'dict_models_lasso_pb.p',\n",
    "               'dict_models_knn_pb.p',\n",
    "               'dict_models_dt_pb.p',\n",
    "               'dict_models_rf_pb.p',\n",
    "               'dict_models_svm_pb.p']\n",
    "\n",
    "# Select the Predictor Brain to use. \n",
    "predictor_brain = 'sub-xp101'"
   ]
  },
  {
   "cell_type": "code",
   "execution_count": 3,
   "metadata": {},
   "outputs": [
    {
     "name": "stdout",
     "output_type": "stream",
     "text": [
      "dict_models_lr_pb.p\n",
      "dict_models_ridge_pb.p\n",
      "dict_models_lasso_pb.p\n",
      "dict_models_knn_pb.p\n",
      "dict_models_dt_pb.p\n",
      "dict_models_rf_pb.p\n",
      "dict_models_svm_pb.p\n"
     ]
    }
   ],
   "source": [
    "# Iterate through all the models. \n",
    "for model_name in models_list:\n",
    "\n",
    "    # Display the current model. \n",
    "    print(model_name)\n",
    "\n",
    "    # Load the model. \n",
    "    with open(neuropolis_models_path + model_name, 'rb') as file:\n",
    "        dict_models = pickle.load(file)\n",
    "\n",
    "    # Extract the model corresponding to the selected Predictor Brain. \n",
    "    model = dict_models[predictor_brain]\n",
    "\n",
    "    # Save the model into a Pickle file. \n",
    "    with open(models_path + 'model_' + model_name[12:], 'wb') as file:\n",
    "        pickle.dump(model, file)"
   ]
  }
 ],
 "metadata": {
  "kernelspec": {
   "display_name": "ouroboros-neurofeedback-api",
   "language": "python",
   "name": "python3"
  },
  "language_info": {
   "codemirror_mode": {
    "name": "ipython",
    "version": 3
   },
   "file_extension": ".py",
   "mimetype": "text/x-python",
   "name": "python",
   "nbconvert_exporter": "python",
   "pygments_lexer": "ipython3",
   "version": "3.11.0"
  }
 },
 "nbformat": 4,
 "nbformat_minor": 2
}
